{
 "cells": [
  {
   "cell_type": "markdown",
   "metadata": {},
   "source": [
    "# User Interface and Visualization Node\n",
    "This node implements an upgraded graphical user interface for the third RT1 assignment. It therefore interacts with two nodes (first_modality_node and secondthird_modality_node) whose task is to realize the control modalities for the robot simulated in Gazebo. In addition to that, this process also help the user visualize some pieces of information regarding the current robot state, by representing them with graphs. In particular the represented quantities are: the robot position, the output of the robot's laser scanners, the number of reached and not reached goals."
   ]
  },
  {
   "cell_type": "markdown",
   "metadata": {},
   "source": [
    "## How to run\n",
    "\n",
    "Run each block of the notebook (it is recommended to run them in order since some declarations present in early blocks are needed to run other blocks)"
   ]
  },
  {
   "cell_type": "markdown",
   "metadata": {},
   "source": [
    "## Imports\n",
    "In the following block the necessary libraries, methods and types of data are imported."
   ]
  },
  {
   "cell_type": "code",
   "execution_count": 1,
   "metadata": {
    "ExecuteTime": {
     "end_time": "2022-05-07T16:46:47.356627Z",
     "start_time": "2022-05-07T16:46:44.548443Z"
    }
   },
   "outputs": [],
   "source": [
    "import rospy\n",
    "import time\n",
    "import functools\n",
    "import numpy as np\n",
    "import matplotlib as mpl\n",
    "import matplotlib.pyplot as plt\n",
    "import ipywidgets as widgets\n",
    "import jupyros as jr\n",
    "import math\n",
    "import actionlib\n",
    "import actionlib.msg\n",
    "import tf\n",
    "\n",
    "%matplotlib widget \n",
    "#magic function that allows the user to interact with the plots \n",
    "\n",
    "from std_msgs.msg import String, Float64, Bool, Float32\n",
    "from geometry_msgs.msg import Twist\n",
    "from nav_msgs.msg import Odometry\n",
    "from sensor_msgs.msg import LaserScan\n",
    "from tf.transformations import quaternion_matrix\n",
    "from rt2_first_assignment.srv import ChangeMod #import the custom type of service ChangeMod\n",
    "from rt2_first_assignment.msg import SetGoal #import the custom type of service SetGoal\n",
    "from matplotlib.animation import FuncAnimation\n",
    "from ipywidgets import Button,Layout,ButtonStyle,GridBox,interact,interactive,fixed,interact_manual\n",
    "from IPython.display import display"
   ]
  },
  {
   "cell_type": "markdown",
   "metadata": {},
   "source": [
    "##  Initialization and global variables\n",
    "In the following block the node is initialized, the publishers and clients are defined and some global variables are initialized."
   ]
  },
  {
   "cell_type": "code",
   "execution_count": 2,
   "metadata": {
    "ExecuteTime": {
     "end_time": "2022-05-07T16:46:49.975682Z",
     "start_time": "2022-05-07T16:46:49.655445Z"
    }
   },
   "outputs": [],
   "source": [
    "rospy.init_node('user_interface_node')\n",
    "vel_pub = rospy.Publisher('/check_vel',Twist,queue_size=1,latch=True) #publisher that publishes on the topic \n",
    "#'/check_vel' a message of type 'Twist' (the latching allows the last sent message to be continuously sent after it\n",
    "#is sent once)\n",
    "setgoal_pub = rospy.Publisher('/set_goal',SetGoal,queue_size=1) #publisher that publishes on the topic '/set_goal' \n",
    "#a message of custom type 'SetGoal'\n",
    "changemod_cli1 = rospy.ServiceProxy('/change_mod1',ChangeMod) #client that sends requests belonging to the service \n",
    "#'/change_mod1' of type 'ChangeMod'\n",
    "changemod_cli2 = rospy.ServiceProxy('/change_mod2',ChangeMod) #client that sends requests belonging to the service \n",
    "#'/change_mod2' of type 'ChangeMod'\n",
    "required_vel = Twist() #global message of type 'Twist'\n",
    "coeff_l = 1.0 #global coefficient that multiplies the linear velocity of the robot\n",
    "coeff_a = 1.0 #global coefficient that multiplies the angular velocity of the robot"
   ]
  },
  {
   "cell_type": "markdown",
   "metadata": {},
   "source": [
    "## Real-time visualization class\n",
    "In the following block a class for the real-time visualization of certain quantities is defined. Specifically, it is aimed at initializing all the graphs and the objects related to them and at generating all the data that are meant to be represented in real-time (robot position, laser scanner's output, number of reached and not reached goals)."
   ]
  },
  {
   "cell_type": "code",
   "execution_count": 3,
   "metadata": {
    "ExecuteTime": {
     "end_time": "2022-05-07T16:46:53.180774Z",
     "start_time": "2022-05-07T16:46:53.069070Z"
    }
   },
   "outputs": [],
   "source": [
    "class Visualiser:\n",
    "    def __init__(self): #constructor/method to construct/initialize an instance of the class\n",
    "        #FIGURES AND AXES INITIALIZATION\n",
    "        self.fig1, self.ax1 = plt.subplots()\n",
    "        self.fig2, self.ax2 = plt.subplots()\n",
    "        self.fig3, self.ax3 = plt.subplots()\n",
    "        #LINES INITIALIZATION\n",
    "        self.ln1, = self.ax1.plot([], [], color='blue', marker='*', markersize=12, linewidth=0)\n",
    "        self.ln2, = self.ax2.plot([], [], color='red', marker='o', markersize=3, linewidth=0)\n",
    "        self.rects = self.ax3.bar([2,7], [0,0], align='center', width=0.8, color=['green','red'])\n",
    "        #VARIABLES INITIALIZATION\n",
    "        self.x_data, self.y_data = [] , [] #initialize two lists to store the x and y value of the robot's position\n",
    "        self.scan_x_data_rf, self.scan_y_data_rf, self.scan_z_data_rf, self.scan_homo = [] , [] , [], [] #initialize\n",
    "        #four lists to store the homogeneous coordinates of the points output by the robot's laser scanner in the \n",
    "        #current scan\n",
    "        self.pos_array_rf = np.empty((4,720)) #initialize an array to store all the points output by the robot's \n",
    "        #laser scanner in the current scan, projected on the robot frame\n",
    "        self.pos_array_bf = np.empty((4,720)) #initialize an array to store all the points output by the robot's \n",
    "        #laser scanner in the current scan, projected on the odom frame\n",
    "        self.complete_pos_array_bf = np.empty((4,720)) #initialize an auxiliary array to be filled with the complete \n",
    "        #'self.pos_array_bf'\n",
    "        self.t_matrix = np.identity(4) #initialize an array to store the current transformation matrix from \n",
    "        #robot frame to base frame\n",
    "        self.complete_t_matrix = np.identity(4) #initialize an auxiliary array to be filled with the \n",
    "        #complete 'self.t-matrix'\n",
    "        self.angle = -math.pi/2 #initialize the angle to process the robot's laser scanner output\n",
    "        self.n_reached_goals = 0 #initialize the variable to be filled with the number of goals reached by the robot\n",
    "        self.n_notreached_goals = 0 #initialize the variable to be filled with the number of goals not reached by the robot\n",
    "        self.goals_array = np.empty((2,1)) #initialize an array to store both the number of reached goals and the\n",
    "        #number of not reached goals\n",
    "        self.i = 0 #initialize an index to be used in for loops\n",
    "        self.j = 0\n",
    "        self.k = 0\n",
    "        self.h = 0\n",
    "        \n",
    "    def plot_init1(self): #method to initialize the first graph\n",
    "        #GRAPH INITIALIZATION\n",
    "        self.ln1.set_data([],[]) #initialize the line\n",
    "        self.ax1.set_xlim(-10, 10) #set the limits of the x-axis\n",
    "        self.ax1.set_ylim(-10, 10) #set the limits of the y-axis\n",
    "        self.ax1.set_title(\"Robot Position\") #set the title of the plot\n",
    "        self.ax1.set_xlabel(\"x\") #set the label of the x-axis\n",
    "        self.ax1.set_ylabel(\"y\") #set the label of the y-axis\n",
    "        return self.ln1 #return the line object\n",
    "    def plot_init2(self): #method to initialize the second graph\n",
    "        #GRAPH INITIALIZATION\n",
    "        self.ln2.set_data([],[])\n",
    "        self.ax2.set_xlim(-10, 10)\n",
    "        self.ax2.set_ylim(-10, 10)\n",
    "        self.ax2.set_title(\"Laser Scan\")\n",
    "        self.ax2.set_xlabel(\"x\")\n",
    "        self.ax2.set_ylabel(\"y\")\n",
    "        return self.ln2\n",
    "    def plot_init3(self): #method to initialize the third graph\n",
    "        #GRAPH INITIALIZATION\n",
    "        self.ax3.set_xlim(0, 10)\n",
    "        self.ax3.set_ylim(0, 10)\n",
    "        self.ax3.set_title(\"Goals Status\")\n",
    "        self.ax3.set_ylabel(\"Number\")\n",
    "        self.ax3.set_xticks([2,7]) #set the ticks along the x axis in correspondence of the bars\n",
    "        self.ax3.set_xticklabels(['reached goals', 'not reached goals'])\n",
    "        return self.rects # return the rectangles object\n",
    "    def clbk_odom(self, msg): #call-back method that is executed every time that a new message is published on \n",
    "        #the '/odom' topic. The method is aimed at both retrieving the robot's position that is then represented and\n",
    "        #at constructing the transformation matrix between the robot frame and the odom frame\n",
    "        #VARIABLES INITIALIZATION/CLEARING\n",
    "        self.x_data.clear()\n",
    "        self.y_data.clear()\n",
    "        #ROBOT POSITION (wrt the odom frame) APPEND\n",
    "        self.x_data.append(msg.pose.pose.position.x) #fill the list with x values taken from the odometry topic\n",
    "        self.y_data.append(msg.pose.pose.position.y) #fill the list with y values taken from the odometry topic\n",
    "        #TRANSFORMATION MATRIX EVALUATION (starting from quaternion and position wrt the odom frame)\n",
    "        self.t_matrix = np.identity(4)\n",
    "        #transform the quaternion vector in a transformation matrix with the rotational part corresponding to \n",
    "        #the quaternion\n",
    "        self.t_matrix = np.array(quaternion_matrix([msg.pose.pose.orientation.x,\n",
    "                                            msg.pose.pose.orientation.y,\n",
    "                                            msg.pose.pose.orientation.z,\n",
    "                                            msg.pose.pose.orientation.w]))\n",
    "        #fill in the transformation matrix with the rotational part\n",
    "        self.t_matrix[0,3]= msg.pose.pose.position.x\n",
    "        self.t_matrix[1,3]= msg.pose.pose.position.y\n",
    "        self.t_matrix[2,3]= msg.pose.pose.position.z\n",
    "        \n",
    "        self.complete_t_matrix=self.t_matrix #save in another matrix the complete 't_matrix' that will be the one\n",
    "        #processed by the 'clbk_scan'\n",
    "    def clbk_scan(self, msg): #call-back method that is executed every time that a new message is published on \n",
    "        #the '/scan' topic. The method is aimed at processing the output of the robot's laser scanner so as to \n",
    "        #obtain a suitable form for the representation\n",
    "        #VARIABLES INITIALIZATION/CLEARING\n",
    "        self.step_size = math.pi/len(msg.ranges) #evaluate the step size between the detections of the robot's \n",
    "        #laser scanner\n",
    "        self.angle = -math.pi/2 #initialize the angle to process the robot's laser scanner output\n",
    "        self.scan_x_data_rf.clear()\n",
    "        self.scan_y_data_rf.clear()\n",
    "        self.scan_z_data_rf.clear()\n",
    "        self.scan_homo.clear()\n",
    "        self.pos_array_rf = np.empty((4,720))\n",
    "        self.pos_array_bf = np.empty((4,720))\n",
    "        self.k = 0\n",
    "        self.h = self.h+1\n",
    "        \n",
    "        if(self.h==15):\n",
    "            #POLAR-(HOMOGENEOUS)CARTESIAN CONVERSION\n",
    "            #process the 'ranges' field of the message published on the '/scan' topic and extrapolate the homogeneous \n",
    "            #coordinates of the points identified by the robot's laser scanner\n",
    "            for self.k in range(0, len(msg.ranges)):\n",
    "                #x-coordinate of the scanned wall at self.angle wrt the robot frame\n",
    "                self.scan_x_data_rf.append(msg.ranges[self.k]*math.cos(self.angle)) \n",
    "                #y-coordinate of the scanned wall at self.angle wrt the robot frame\n",
    "                self.scan_y_data_rf.append(msg.ranges[self.k]*math.sin(self.angle))\n",
    "                #z-coordinate of the scanned wall at self.angle wrt the robot frame\n",
    "                self.scan_z_data_rf.append(0)\n",
    "                #1 used to realize the homogeneous position representation\n",
    "                self.scan_homo.append(1)\n",
    "                self.angle = self.angle + self.step_size\n",
    "            #ARRAY OF ALL THE CONVERTED POINTS (projected on the robot frame)\n",
    "            self.pos_array_rf = np.vstack((self.scan_x_data_rf, self.scan_y_data_rf, self.scan_z_data_rf, self.scan_homo))\n",
    "\n",
    "            #ARRAY OF ALL THE CONVERTED POINTS (projected on the odom frame)\n",
    "            self.k = 0\n",
    "            for self.k in range(0, len(msg.ranges)):\n",
    "                self.pos_array_bf[:, self.k] = np.dot(self.complete_t_matrix, self.pos_array_rf[:, self.k])\n",
    "            self.complete_pos_array_bf = self.pos_array_bf\n",
    "            self.h = 0         \n",
    "    def clbk_goalstatus(self,msg): #call-back method that is executed every time that a new message is published on \n",
    "        #the '/goal_status' topic. The method is aimed at keeping track of the reached and not reached goals\n",
    "        if(msg.data == True):\n",
    "            print('\\033[92m' + 'The goal has been reached' + '\\033[0m')\n",
    "            self.n_reached_goals = self.n_reached_goals+1\n",
    "        else:\n",
    "            print('\\033[91m' + 'The goal has not been reached' + '\\033[0m')\n",
    "            self.n_notreached_goals = self.n_notreached_goals+1\n",
    "    \n",
    "    def update_plot1(self, frame): #call-back method associated with the FuncAnimation function that updates the \n",
    "        #line object ln1 with the new data that have been appended to the arrays\n",
    "        #UPDATE THE LINE OBJECT\n",
    "        self.ln1.set_data(self.x_data, self.y_data)\n",
    "        return self.ln1\n",
    "    def update_plot2(self, frame): #call-back method associated with the FuncAnimation function that updates the \n",
    "        #line object ln2 with the new data that have been appended to the arrays\n",
    "        #UPDATE THE LINE OBJECT\n",
    "        self.ln2.set_data(list(self.complete_pos_array_bf[0,:]), list(self.complete_pos_array_bf[1,:]))\n",
    "        return self.ln2\n",
    "    def update_plot3(self, frame): #call-back method associated with the FuncAnimation function that updates the \n",
    "        #rectangles object rects with the new data that have been appended to the arrays\n",
    "        #UPDATE THE RECTANGLES OBJECT\n",
    "        self.goals_array = np.array([self.n_reached_goals, self.n_notreached_goals]).T\n",
    "        for self.rect, self.goal in zip(self.rects, self.goals_array):\n",
    "            self.rect.set_height(self.goal)\n",
    "        return self.rects"
   ]
  },
  {
   "cell_type": "markdown",
   "metadata": {},
   "source": [
    "## Widgets functions\n",
    "In the following block all the functions associated to certain interactions with the widgets are defined."
   ]
  },
  {
   "cell_type": "code",
   "execution_count": 4,
   "metadata": {
    "ExecuteTime": {
     "end_time": "2022-05-07T16:46:56.908735Z",
     "start_time": "2022-05-07T16:46:56.850782Z"
    }
   },
   "outputs": [],
   "source": [
    "#BUTTONS FUNCTIONS\n",
    "\n",
    "#Function that is called every time that one of the 'modality buttons' is pressed. The pressed button is encoded in \n",
    "#the 'rs_' argument that by default is equal to 0. The function is aimed at changing the modality under request, by \n",
    "#sending in its turn a request to both services '/change_mod1' and '/change_mod2'. Then, if the change in \n",
    "#modality is succesful, a feedback is printed in this notebook\n",
    "def switchto_mod(b,rs_='0'):\n",
    "    global changemod_cli1\n",
    "    global changemod_cli2\n",
    "    global vel_pub\n",
    "    global required_vel\n",
    "    rospy.wait_for_service('/change_mod1')\n",
    "    rospy.wait_for_service('/change_mod2')\n",
    "    try:\n",
    "        res1=changemod_cli1(rs_)\n",
    "    except rospy.ServiceException as e:\n",
    "        print('Service1 call failed: %s' %e)\n",
    "    try:\n",
    "        res2=changemod_cli2(rs_)\n",
    "    except rospy.ServiceException as e:\n",
    "        print('Service2 call failed: %s' %e)\n",
    "    if(rs_=='0'):\n",
    "        print('Returned to the modality selection')\n",
    "    else:\n",
    "        if(res1.success == True and res2.success == True): \n",
    "            print('Switched to modality: %s' %rs_)\n",
    "        \n",
    "            #if the modality has been succesfully changed to either modality 2 or 3 reset the velocity sent on \n",
    "            #the topic '/check_vel' coming from previous pushes of the 'arrow buttons'\n",
    "            if(rs_=='2' or rs_=='3'):\n",
    "                required_vel.linear.x=0.0\n",
    "                required_vel.angular.z=0.0\n",
    "                vel_pub.publish(required_vel)\n",
    "#Function that is called every time that either one of the 'arrow buttons' or the 'stop button' is pressed. \n",
    "#The pressed button is encoded in the 'rs_' argument that by default is equal to 'stop'. The function is aimed at \n",
    "#changing the robot's motion under request, by publishing a message on the topic '/check_vel'\n",
    "def change_vel(b,rs_='stop'): #default value of the string passed as argument\n",
    "    global vel_pub\n",
    "    global required_vel\n",
    "    global coeff_l\n",
    "    global coeff_a\n",
    "    if(rs_=='up'):\n",
    "        required_vel.linear.x=coeff_l*0.7\n",
    "    if(rs_=='down'):\n",
    "        required_vel.linear.x=-coeff_l*0.7\n",
    "    if(rs_=='left'):\n",
    "        required_vel.angular.z=coeff_a*0.7\n",
    "    if(rs_=='right'):\n",
    "        required_vel.angular.z=-coeff_a*0.7\n",
    "    if(rs_=='stop'):\n",
    "        required_vel.linear.x=coeff_l*0.0\n",
    "        required_vel.angular.z=coeff_a*0.0\n",
    "    vel_pub.publish(required_vel)\n",
    "#Function that is called every time that the 'send goal button' is pressed. The function is aimed at broadcasting\n",
    "#under request the goal position whose coordinates are specified in the two float boxes. In particular the message \n",
    "#is published on the topic '/set_goal'\n",
    "def send_goal(b):\n",
    "    global setgoal_pub\n",
    "    setgoal_pub.publish(ft1.value,ft2.value)\n",
    "    print('Goal position (%f,%f) sent' %(ft1.value, ft2.value))\n",
    "\n",
    "#SLIDERS FUNCTIONS\n",
    "\n",
    "#Function that is called every time that the 'linear velocity slider' is moved and released. The function is aimed \n",
    "#at removing the previous alteration of the linear velocity and at adding a new one. This is obtained by modifying \n",
    "#the global variable 'coeff_l'\n",
    "def modify_linear_velocity(change): #'change' is a dictionary holding the information about the change in the slider\n",
    "    global coeff_l\n",
    "    global vel_pub\n",
    "    global required_vel\n",
    "    required_vel.linear.x = required_vel.linear.x/coeff_l #divide by the old coefficient\n",
    "    coeff_l=fs1.value\n",
    "    required_vel.linear.x = required_vel.linear.x*coeff_l #multiply by the new coefficient\n",
    "    vel_pub.publish(required_vel) #publish the newly obtained velocity, otherwise one should wait until the \n",
    "    #next pushed 'arrow button'\n",
    "#Function that is called every time that the 'linear velocity slider' is moved and released. The function is aimed \n",
    "#at removing the previous alteration of the linear velocity and at adding a new one. This is obtained by modifying \n",
    "#the global variable 'coeff_a'\n",
    "def modify_angular_velocity(change):\n",
    "    global coeff_a\n",
    "    global vel_pub\n",
    "    global required_vel\n",
    "    required_vel.angular.z = required_vel.angular.z/coeff_a #divide by the old coefficient\n",
    "    coeff_a=fs2.value\n",
    "    required_vel.angular.z = required_vel.angular.z*coeff_a #multiply by the new coefficient\n",
    "    vel_pub.publish(required_vel) #publish the newly obtained velocity, otherwise one should wait until the \n",
    "    #next pushed 'arrow button'"
   ]
  },
  {
   "cell_type": "markdown",
   "metadata": {},
   "source": [
    "## Buttons and float boxes\n",
    "In the following block the styling and positioning of both the buttons and the float boxes are defined."
   ]
  },
  {
   "cell_type": "code",
   "execution_count": 5,
   "metadata": {
    "ExecuteTime": {
     "end_time": "2022-05-07T16:47:02.414128Z",
     "start_time": "2022-05-07T16:47:01.871912Z"
    },
    "scrolled": true
   },
   "outputs": [
    {
     "data": {
      "application/vnd.jupyter.widget-view+json": {
       "model_id": "ab2c663d6caa458698c71cff98b1267d",
       "version_major": 2,
       "version_minor": 0
      },
      "text/plain": [
       "GridBox(children=(Button(disabled=True, layout=Layout(grid_area='b0', width='auto'), style=ButtonStyle(button_…"
      ]
     },
     "metadata": {},
     "output_type": "display_data"
    },
    {
     "name": "stdout",
     "output_type": "stream",
     "text": [
      "Switched to modality: 1\n",
      "Goal position (-3.000000,-3.000000) sent\n",
      "Returned to the modality selection\n",
      "Switched to modality: 2\n",
      "Returned to the modality selection\n",
      "Switched to modality: 3\n",
      "Returned to the modality selection\n",
      "Switched to modality: 2\n",
      "Returned to the modality selection\n",
      "Switched to modality: 3\n",
      "Goal position (-3.000000,-3.000000) sent\n"
     ]
    }
   ],
   "source": [
    "b0 = widgets.Button(disabled=True,\n",
    "                    style=ButtonStyle(button_color='white'),\n",
    "                    layout=Layout(width='auto',grid_area='b0')\n",
    "                   )\n",
    "b1 = widgets.Button(description='Mod1',\n",
    "                    disabled=False,\n",
    "                    tooltip='Switch to mod1',\n",
    "                    style=ButtonStyle(button_color='Plum'),\n",
    "                    layout=Layout(width='auto',grid_area='b1')\n",
    "                   )\n",
    "b2 = widgets.Button(description='Mod2',\n",
    "                    disabled=False,\n",
    "                    tooltip='Switch to mod2',\n",
    "                    style=ButtonStyle(button_color='Plum'),\n",
    "                    layout=Layout(width='auto',grid_area='b2')\n",
    "                   )\n",
    "b3 = widgets.Button(description='Mod3',\n",
    "                    disabled=False,\n",
    "                    tooltip='Switch to mod3',\n",
    "                    style=ButtonStyle(button_color='Plum'),\n",
    "                    layout=Layout(width='auto',grid_area='b3')\n",
    "                   )\n",
    "b4 = widgets.Button(#description='Up',\n",
    "                    disabled=False,\n",
    "                    tooltip='Move up',\n",
    "                    icon='fa-arrow-circle-up',\n",
    "                    style=ButtonStyle(button_color='LightBlue'),\n",
    "                    layout=Layout(width='auto',grid_area='b4')\n",
    "                   )\n",
    "b5 = widgets.Button(#description='Down',\n",
    "                    disabled=False,\n",
    "                    tooltip='Move down',\n",
    "                    icon='fa-arrow-circle-down',\n",
    "                    style=ButtonStyle(button_color='LightBlue'),\n",
    "                    layout=Layout(width='auto',grid_area='b5')\n",
    "                   )\n",
    "b6 = widgets.Button(#description='Left',\n",
    "                    disabled=False,\n",
    "                    tooltip='Move left',\n",
    "                    icon='fa-arrow-circle-left',\n",
    "                    style=ButtonStyle(button_color='LightBlue'),\n",
    "                    layout=Layout(width='auto',grid_area='b6')\n",
    "                   )\n",
    "b7 = widgets.Button(#description='Right',\n",
    "                    disabled=False,\n",
    "                    tooltip='Move right',\n",
    "                    icon='fa-arrow-circle-right',\n",
    "                    style=ButtonStyle(button_color='LightBlue'),\n",
    "                    layout=Layout(width='auto',grid_area='b7')\n",
    "                   )\n",
    "b8 = widgets.Button(description='Stop',\n",
    "                    disabled=False,\n",
    "                    tooltip='Stop',\n",
    "                    style=ButtonStyle(button_color='LightBlue'),\n",
    "                    layout=Layout(width='auto',grid_area='b8')\n",
    "                   )\n",
    "b9 = widgets.Button(description='Send goal',\n",
    "                    disabled=False,\n",
    "                    tooltip='Send the goal position',\n",
    "                    style=ButtonStyle(button_color='LightSalmon'),\n",
    "                    layout=Layout(width='auto',grid_area='b9')\n",
    "                   )\n",
    "b10 = widgets.Button(description='Return to the modality selection',\n",
    "                    disabled=False,\n",
    "                    tooltip='Go back to the modality selection',\n",
    "                    icon='fa-undo',\n",
    "                    style=ButtonStyle(button_color='Plum'),\n",
    "                    layout=Layout(width='auto',grid_area='b10')\n",
    "                   )\n",
    "ft1 = widgets.FloatText(value=0.0,\n",
    "                        description='x-coordinate',\n",
    "                        disabled=False,\n",
    "                        layout=Layout(width='auto',grid_area='ft1')\n",
    "                       )\n",
    "ft2 = widgets.FloatText(value=0.0,\n",
    "                        description='y-coordinate',\n",
    "                        disabled=False,\n",
    "                        layout=Layout(width='auto',grid_area='ft2')\n",
    "                       )\n",
    "GridBox(children=[b0,b1,b2,b3,b4,b5,b6,b7,b8,b9,b10,ft1,ft2],\n",
    "         layout=Layout(\n",
    "             width='100%',\n",
    "             grid_template_rows='auto auto auto auto auto auto',\n",
    "             grid_template_columns='20% 20% 20% 20% 20%',\n",
    "             grid_template_areas='''\n",
    "             \"b1 . b2 . b3\"\n",
    "             \"b10 b10 b10 b10 b10\"\n",
    "             \". b0 . . .\"\n",
    "             \"ft1 . . b4 .\"\n",
    "             \"ft2 . b6 b8 b7\"\n",
    "             \"b9 . . b5 .\"\n",
    "             ''')\n",
    "        )"
   ]
  },
  {
   "cell_type": "markdown",
   "metadata": {},
   "source": [
    "## Sliders\n",
    "In the following block the characteristics of the sliders are defined."
   ]
  },
  {
   "cell_type": "code",
   "execution_count": 6,
   "metadata": {
    "ExecuteTime": {
     "end_time": "2022-05-07T16:47:05.961094Z",
     "start_time": "2022-05-07T16:47:05.886870Z"
    }
   },
   "outputs": [
    {
     "data": {
      "application/vnd.jupyter.widget-view+json": {
       "model_id": "d133dbbce8364b33ae1c3eb18bc78431",
       "version_major": 2,
       "version_minor": 0
      },
      "text/plain": [
       "FloatSlider(value=1.0, continuous_update=False, description='Linear Velocity coefficient:', max=2.0, min=0.1, …"
      ]
     },
     "metadata": {},
     "output_type": "display_data"
    },
    {
     "data": {
      "application/vnd.jupyter.widget-view+json": {
       "model_id": "cce9c14cc73d4debadb3de46907a258c",
       "version_major": 2,
       "version_minor": 0
      },
      "text/plain": [
       "FloatSlider(value=1.0, continuous_update=False, description='Angular Velocity coefficient:', max=2.0, min=0.1,…"
      ]
     },
     "metadata": {},
     "output_type": "display_data"
    }
   ],
   "source": [
    "fs1 = widgets.FloatSlider(\n",
    "                            value=1.0,\n",
    "                            min=0.1,\n",
    "                            max=2.0,\n",
    "                            step=0.1,\n",
    "                            description='Linear Velocity coefficient:',\n",
    "                            disabled=False,\n",
    "                            continuous_update=False, #update the value of the slider at the release of the mouse, \n",
    "                            #irather than continuously\n",
    "                            orientation='horizontal',\n",
    "                            readout=True, #display the current value of the slider\n",
    "                            readout_format='.1f',\n",
    "                         )\n",
    "fs2 = widgets.FloatSlider(\n",
    "                            value=1.0,\n",
    "                            min=0.1,\n",
    "                            max=2.0,\n",
    "                            step=0.1,\n",
    "                            description='Angular Velocity coefficient:',\n",
    "                            disabled=False,\n",
    "                            continuous_update=False, #the value is updated at the release of the mouse, \n",
    "                            #instead of continuously\n",
    "                            orientation='horizontal',\n",
    "                            readout=True, #to display the current value of the slider\n",
    "                            readout_format='.1f',\n",
    "                         )\n",
    "display(fs1)\n",
    "display(fs2)"
   ]
  },
  {
   "cell_type": "markdown",
   "metadata": {},
   "source": [
    "## Widgets-functions association\n",
    "In the following block the buttons and sliders are associated with the corresponding functions. "
   ]
  },
  {
   "cell_type": "code",
   "execution_count": 7,
   "metadata": {
    "ExecuteTime": {
     "end_time": "2022-05-07T16:47:10.122393Z",
     "start_time": "2022-05-07T16:47:10.106910Z"
    }
   },
   "outputs": [],
   "source": [
    "#BUTTONS\n",
    "\n",
    "#In most cases, in addition to the name of the corresponding call-back function, the argument 'rs_' (that\n",
    "#is directly passed) to it is provided\n",
    "b1.on_click(functools.partial(switchto_mod, rs_='1'))\n",
    "b2.on_click(functools.partial(switchto_mod, rs_='2'))\n",
    "b3.on_click(functools.partial(switchto_mod, rs_='3'))\n",
    "b10.on_click(functools.partial(switchto_mod, rs_='0'))\n",
    "b4.on_click(functools.partial(change_vel, rs_='up'))\n",
    "b5.on_click(functools.partial(change_vel, rs_='down'))\n",
    "b6.on_click(functools.partial(change_vel, rs_='left'))\n",
    "b7.on_click(functools.partial(change_vel, rs_='right'))\n",
    "b8.on_click(functools.partial(change_vel, rs_='stop'))\n",
    "b9.on_click(send_goal)\n",
    "\n",
    "#SLIDERS\n",
    "\n",
    "#To handle changes in the attribute of a widget, the 'observe' method of the widget can be used to register \n",
    "#a call-back function\n",
    "fs1.observe(modify_linear_velocity, names='value')#names: name of the modified trait attribute\n",
    "fs2.observe(modify_angular_velocity, names='value')"
   ]
  },
  {
   "cell_type": "markdown",
   "metadata": {},
   "source": [
    "## Real-time visualization\n",
    "In the following block an instance of the real-time visualization class is defined and its methods are used in order to represent instant by instant some pieces of information about the robot's state: the robot position, the output of the robot's laser scanners, the number of reached and not reached goals."
   ]
  },
  {
   "cell_type": "code",
   "execution_count": 8,
   "metadata": {
    "ExecuteTime": {
     "end_time": "2022-05-07T16:47:16.039328Z",
     "start_time": "2022-05-07T16:47:14.364083Z"
    }
   },
   "outputs": [
    {
     "data": {
      "application/vnd.jupyter.widget-view+json": {
       "model_id": "03d98e69af5b49369426217c422d4b84",
       "version_major": 2,
       "version_minor": 0
      },
      "image/png": "[encoded data removed]",
      "text/html": [
       "\n",
       "            <div style=\"display: inline-block;\">\n",
       "                <div class=\"jupyter-widgets widget-label\" style=\"text-align: center;\">\n",
       "                    Figure\n",
       "                </div>\n",
       "                <img src='data:image/png;base64,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' width=640.0/>\n",
       "            </div>\n",
       "        "
      ],
      "text/plain": [
       "Canvas(toolbar=Toolbar(toolitems=[('Home', 'Reset original view', 'home', 'home'), ('Back', 'Back to previous …"
      ]
     },
     "metadata": {},
     "output_type": "display_data"
    },
    {
     "data": {
      "application/vnd.jupyter.widget-view+json": {
       "model_id": "cc2e8a627de1455285dd0a59fb8e5f82",
       "version_major": 2,
       "version_minor": 0
      },
      "image/png": "[encoded data removed]",
      "text/html": [
       "\n",
       "            <div style=\"display: inline-block;\">\n",
       "                <div class=\"jupyter-widgets widget-label\" style=\"text-align: center;\">\n",
       "                    Figure\n",
       "                </div>\n",
       "                <img src='data:image/png;base64,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' width=640.0/>\n",
       "            </div>\n",
       "        "
      ],
      "text/plain": [
       "Canvas(toolbar=Toolbar(toolitems=[('Home', 'Reset original view', 'home', 'home'), ('Back', 'Back to previous …"
      ]
     },
     "metadata": {},
     "output_type": "display_data"
    },
    {
     "data": {
      "application/vnd.jupyter.widget-view+json": {
       "model_id": "03c67f959fb94c45989c7ace6aee0aa1",
       "version_major": 2,
       "version_minor": 0
      },
      "image/png": "[encoded data removed]",
      "text/html": [
       "\n",
       "            <div style=\"display: inline-block;\">\n",
       "                <div class=\"jupyter-widgets widget-label\" style=\"text-align: center;\">\n",
       "                    Figure\n",
       "                </div>\n",
       "                <img src='data:image/png;base64,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' width=640.0/>\n",
       "            </div>\n",
       "        "
      ],
      "text/plain": [
       "Canvas(toolbar=Toolbar(toolitems=[('Home', 'Reset original view', 'home', 'home'), ('Back', 'Back to previous …"
      ]
     },
     "metadata": {},
     "output_type": "display_data"
    }
   ],
   "source": [
    "vis = Visualiser() #define an instance of the class Visualiser\n",
    "sub_odom = rospy.Subscriber('/odom', Odometry, vis.clbk_odom)#define and initialize the subscriber to the \n",
    "#topic '/odom'\n",
    "sub_scan = rospy.Subscriber('/scan', LaserScan, vis.clbk_scan) #define and initialize the subscriber to the\n",
    "#topic '/scan'\n",
    "sub_goalstatus = rospy.Subscriber('/goal_status', Bool, vis.clbk_goalstatus) #define and initialize the subscriber to the\n",
    "#topic '/goal_status'\n",
    "animation = FuncAnimation(vis.fig1, vis.update_plot1, init_func=vis.plot_init1, frames=100, interval=200, blit=True) \n",
    "#consider the figure, initialize the plot, associate the update_plot call-back method to update the plot with the\n",
    "#FuncAnimation function.[frames: number of frames to be printed (100 by default -> it then restarts if it is not\n",
    "#specified repeat=False); interval: delay between printed frames in milliseconds (200 by default)]\n",
    "animation2 = FuncAnimation(vis.fig2, vis.update_plot2, init_func=vis.plot_init2, frames=100, interval=200, blit=True)\n",
    "animation3 = FuncAnimation(vis.fig3, vis.update_plot3, init_func=vis.plot_init3, frames=100, interval=100, blit=True)\n",
    "plt.show(block=True) #plot the graphs"
   ]
  },
  {
   "cell_type": "code",
   "execution_count": null,
   "metadata": {},
   "outputs": [],
   "source": []
  }
 ],
 "metadata": {
  "hide_input": false,
  "kernelspec": {
   "display_name": "Python 3 (ipykernel)",
   "language": "python",
   "name": "python3"
  },
  "language_info": {
   "codemirror_mode": {
    "name": "ipython",
    "version": 3
   },
   "file_extension": ".py",
   "mimetype": "text/x-python",
   "name": "python",
   "nbconvert_exporter": "python",
   "pygments_lexer": "ipython3",
   "version": "3.8.10"
  },
  "toc": {
   "base_numbering": 1,
   "nav_menu": {},
   "number_sections": true,
   "sideBar": true,
   "skip_h1_title": false,
   "title_cell": "Table of Contents",
   "title_sidebar": "Contents",
   "toc_cell": false,
   "toc_position": {},
   "toc_section_display": true,
   "toc_window_display": false
  },
  "varInspector": {
   "cols": {
    "lenName": 16,
    "lenType": 16,
    "lenVar": 40
   },
   "kernels_config": {
    "python": {
     "delete_cmd_postfix": "",
     "delete_cmd_prefix": "del ",
     "library": "var_list.py",
     "varRefreshCmd": "print(var_dic_list())"
    },
    "r": {
     "delete_cmd_postfix": ") ",
     "delete_cmd_prefix": "rm(",
     "library": "var_list.r",
     "varRefreshCmd": "cat(var_dic_list()) "
    }
   },
   "types_to_exclude": [
    "module",
    "function",
    "builtin_function_or_method",
    "instance",
    "_Feature"
   ],
   "window_display": false
  }
 },
 "nbformat": 4,
 "nbformat_minor": 2
}
